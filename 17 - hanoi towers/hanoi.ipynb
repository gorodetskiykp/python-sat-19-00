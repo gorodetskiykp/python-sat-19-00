{
 "cells": [
  {
   "cell_type": "code",
   "execution_count": null,
   "id": "ae8ed07e",
   "metadata": {},
   "outputs": [],
   "source": [
    "# bool - True, False\n",
    "# бит = 0, 1 (бод)\n",
    "# байт = 8 бит (двойное слово)\n",
    "# слово = 4 бит\n",
    "\n",
    "# 0b 0001 0001"
   ]
  },
  {
   "cell_type": "code",
   "execution_count": 5,
   "id": "c5fe9c68",
   "metadata": {},
   "outputs": [
    {
     "name": "stdout",
     "output_type": "stream",
     "text": [
      "0b1\n",
      "0b10\n",
      "2\n"
     ]
    }
   ],
   "source": [
    "number = 1\n",
    "print(bin(number))\n",
    "\n",
    "number = 2\n",
    "print(bin(number))\n",
    "\n",
    "print(int('0b10', base=2))"
   ]
  },
  {
   "cell_type": "code",
   "execution_count": 23,
   "id": "decf5626",
   "metadata": {
    "scrolled": true
   },
   "outputs": [
    {
     "name": "stdout",
     "output_type": "stream",
     "text": [
      "0000\n",
      "0001\n",
      "0010\n",
      "0011\n",
      "0100\n",
      "0101\n",
      "0110\n",
      "0111\n",
      "1000\n",
      "1001\n",
      "1010\n",
      "1011\n",
      "1100\n",
      "1101\n",
      "1110\n",
      "1111\n"
     ]
    }
   ],
   "source": [
    "items = 4\n",
    "for num in range(2 ** items):\n",
    "    print('{:0>{}}'.format(bin(num)[2:], items))"
   ]
  },
  {
   "cell_type": "markdown",
   "id": "2af532e9",
   "metadata": {},
   "source": [
    "0000\n",
    "0001 = 2 ** 0 = 1\n",
    "0010 = 2 ** 1 = 2\n",
    "0011 = 2 ** 1 + 2 ** 0 = 2 + 1 = 3\n",
    "0100 = 2 ** 2 = 4\n",
    "0101\n",
    "0110\n",
    "0111\n",
    "1000\n",
    "1001"
   ]
  },
  {
   "cell_type": "code",
   "execution_count": 26,
   "id": "f4525896",
   "metadata": {
    "scrolled": false
   },
   "outputs": [
    {
     "name": "stdout",
     "output_type": "stream",
     "text": [
      "00000\n",
      "00001\n",
      "00010\n",
      "00011\n",
      "00100\n",
      "00101\n",
      "00110\n",
      "00111\n",
      "01000\n",
      "01001\n",
      "01010\n",
      "01011\n",
      "01100\n",
      "01101\n",
      "01110\n",
      "01111\n",
      "10000\n",
      "10001\n",
      "10010\n",
      "10011\n",
      "10100\n",
      "10101\n",
      "10110\n",
      "10111\n",
      "11000\n",
      "11001\n",
      "11010\n",
      "11011\n",
      "11100\n",
      "11101\n",
      "11110\n",
      "11111\n"
     ]
    }
   ],
   "source": [
    "items = 5\n",
    "for num in range(2 ** items):\n",
    "    print('{:0>{}}'.format(bin(num)[2:], items))"
   ]
  },
  {
   "cell_type": "code",
   "execution_count": null,
   "id": "6b236d24",
   "metadata": {},
   "outputs": [],
   "source": [
    "неч = 1-3-2\n",
    "чет = 1-2-3"
   ]
  },
  {
   "cell_type": "code",
   "execution_count": 44,
   "id": "c1cf0ecc",
   "metadata": {},
   "outputs": [
    {
     "name": "stdout",
     "output_type": "stream",
     "text": [
      "2\n",
      "1\n",
      "2\n",
      "0\n",
      "2\n",
      "1\n",
      "2\n"
     ]
    }
   ],
   "source": [
    "def get_disk_number(step, disks):\n",
    "    # 0 - самый большой диск\n",
    "    prev_step = step - 1\n",
    "    prev_step_bin = '{:0>{}}'.format(bin(prev_step)[2:], disks)\n",
    "    step_bin = '{:0>{}}'.format(bin(step)[2:], disks)\n",
    "\n",
    "    for idx in range(disks):\n",
    "        if prev_step_bin[idx] == '0' and step_bin[idx] == '1':\n",
    "            return idx\n",
    "\n",
    "assert get_disk_number(1, 4) == 3\n",
    "assert get_disk_number(1, 1) == 0\n",
    "assert get_disk_number(6, 4) == 2\n",
    "\n",
    "\n",
    "disks = 3\n",
    "steps = 2 ** disks - 1\n",
    "for step in range(steps):\n",
    "    print(get_disk_number(step + 1, disks))"
   ]
  },
  {
   "cell_type": "code",
   "execution_count": 54,
   "id": "9a862a9f",
   "metadata": {},
   "outputs": [],
   "source": [
    "disk_no = 1\n",
    "current_pos = 1\n",
    "\n",
    "def next_position(disk_no, current_pos):\n",
    "    moves = {\n",
    "        0: {\n",
    "            1: 3,\n",
    "            2: 1,\n",
    "            3: 2,\n",
    "        },\n",
    "        1: {\n",
    "            1: 2, \n",
    "            2: 3, \n",
    "            3: 1,\n",
    "        },\n",
    "    }\n",
    "\n",
    "    return moves[disk_no % 2][current_pos]\n",
    "\n",
    "assert next_position(2, 1) == 3\n",
    "assert next_position(1, 1) == 2"
   ]
  },
  {
   "cell_type": "code",
   "execution_count": 73,
   "id": "519ce9ad",
   "metadata": {},
   "outputs": [
    {
     "name": "stdout",
     "output_type": "stream",
     "text": [
      "1. 3: 1 -> 2\n",
      "2. 2: 1 -> 3\n",
      "3. 3: 2 -> 3\n",
      "4. 1: 1 -> 2\n",
      "5. 3: 3 -> 1\n",
      "6. 2: 3 -> 2\n",
      "7. 3: 1 -> 2\n",
      "8. 0: 1 -> 3\n",
      "9. 3: 2 -> 3\n",
      "10. 2: 2 -> 1\n",
      "11. 3: 3 -> 1\n",
      "12. 1: 2 -> 3\n",
      "13. 3: 1 -> 2\n",
      "14. 2: 1 -> 3\n",
      "15. 3: 2 -> 3\n"
     ]
    }
   ],
   "source": [
    "def get_disk_number(step, disks):\n",
    "    # 0 - самый большой диск\n",
    "    prev_step = step - 1\n",
    "    prev_step_bin = '{:0>{}}'.format(bin(prev_step)[2:], disks)\n",
    "    step_bin = '{:0>{}}'.format(bin(step)[2:], disks)\n",
    "\n",
    "    return list(zip(prev_step_bin, step_bin)).index(('0', '1'))\n",
    "\n",
    "\n",
    "assert get_disk_number(1, 4) == 3\n",
    "assert get_disk_number(1, 1) == 0\n",
    "assert get_disk_number(6, 4) == 2\n",
    "\n",
    "\n",
    "def next_position(disk_no, current_pos):\n",
    "    moves = {\n",
    "        0: {\n",
    "            1: 3,\n",
    "            2: 1,\n",
    "            3: 2,\n",
    "        },\n",
    "        1: {\n",
    "            1: 2, \n",
    "            2: 3, \n",
    "            3: 1,\n",
    "        },\n",
    "    }\n",
    "\n",
    "    return moves[disk_no % 2][current_pos]\n",
    "\n",
    "\n",
    "assert next_position(2, 1) == 3\n",
    "assert next_position(1, 1) == 2\n",
    "\n",
    "disks = 4\n",
    "steps = 2 ** disks - 1\n",
    "current_positions = [1] * disks\n",
    "for step in range(steps):\n",
    "    print(step + 1, end='. ')\n",
    "    disk_no = get_disk_number(step + 1, disks)\n",
    "    print(disk_no, end=': ')\n",
    "    current_pos = current_positions[disk_no]\n",
    "    print(current_pos, end=' -> ')\n",
    "    next_pos = next_position(disk_no, current_pos)\n",
    "    print(next_pos)\n",
    "    current_positions[disk_no] = next_pos"
   ]
  },
  {
   "cell_type": "code",
   "execution_count": 67,
   "id": "ef04277c",
   "metadata": {},
   "outputs": [
    {
     "data": {
      "text/plain": [
       "5930666175.961146"
      ]
     },
     "execution_count": 67,
     "metadata": {},
     "output_type": "execute_result"
    }
   ],
   "source": [
    "2 ** 64 / 60 / 60 / 24 / 30 / 12 / 100"
   ]
  },
  {
   "cell_type": "code",
   "execution_count": 72,
   "id": "5f606aee",
   "metadata": {},
   "outputs": [
    {
     "name": "stdout",
     "output_type": "stream",
     "text": [
      "0000\n",
      "0001\n",
      "3\n"
     ]
    },
    {
     "data": {
      "text/plain": [
       "3"
      ]
     },
     "execution_count": 72,
     "metadata": {},
     "output_type": "execute_result"
    }
   ],
   "source": [
    "def get_disk_number(step, disks):\n",
    "    # 0 - самый большой диск\n",
    "    prev_step = step - 1\n",
    "    prev_step_bin = '{:0>{}}'.format(bin(prev_step)[2:], disks)\n",
    "    step_bin = '{:0>{}}'.format(bin(step)[2:], disks)\n",
    "\n",
    "    return list(zip(prev_step_bin, step_bin)).index(('0', '1'))\n",
    "\n",
    "        \n",
    "        \n",
    "get_disk_number(1, 4)"
   ]
  },
  {
   "cell_type": "code",
   "execution_count": 74,
   "id": "f6e62e9b",
   "metadata": {
    "collapsed": true
   },
   "outputs": [
    {
     "data": {
      "text/plain": [
       "['__doc__',\n",
       " '__loader__',\n",
       " '__name__',\n",
       " '__package__',\n",
       " '__spec__',\n",
       " '_grouper',\n",
       " '_tee',\n",
       " '_tee_dataobject',\n",
       " 'accumulate',\n",
       " 'chain',\n",
       " 'combinations',\n",
       " 'combinations_with_replacement',\n",
       " 'compress',\n",
       " 'count',\n",
       " 'cycle',\n",
       " 'dropwhile',\n",
       " 'filterfalse',\n",
       " 'groupby',\n",
       " 'islice',\n",
       " 'permutations',\n",
       " 'product',\n",
       " 'repeat',\n",
       " 'starmap',\n",
       " 'takewhile',\n",
       " 'tee',\n",
       " 'zip_longest']"
      ]
     },
     "execution_count": 74,
     "metadata": {},
     "output_type": "execute_result"
    }
   ],
   "source": [
    "import itertools\n",
    "\n",
    "dir(itertools)"
   ]
  },
  {
   "cell_type": "code",
   "execution_count": 81,
   "id": "e0912ded",
   "metadata": {},
   "outputs": [
    {
     "name": "stdout",
     "output_type": "stream",
     "text": [
      "[(1, 2), (2, 4)]\n",
      "[(1, 2), (2, 4), (3, '*')]\n"
     ]
    }
   ],
   "source": [
    "from itertools import zip_longest\n",
    "\n",
    "a = [1, 2, 3]\n",
    "b = [2, 4]\n",
    "\n",
    "1\n",
    "001\n",
    "\n",
    "print(list(zip(a, b)))\n",
    "\n",
    "print(list(zip_longest(a, b, fillvalue='*')))\n",
    "\n",
    "# help(zip_longest)"
   ]
  },
  {
   "cell_type": "code",
   "execution_count": 83,
   "id": "92e9337d",
   "metadata": {
    "scrolled": false
   },
   "outputs": [
    {
     "name": "stdout",
     "output_type": "stream",
     "text": [
      "1\n",
      "2\n",
      "3\n",
      "1\n",
      "2\n",
      "3\n",
      "1\n",
      "2\n",
      "3\n",
      "1\n"
     ]
    }
   ],
   "source": [
    "from itertools import cycle\n",
    "\n",
    "a = cycle([1, 2, 3])\n",
    "for _ in range(10):\n",
    "    print(next(a))"
   ]
  },
  {
   "cell_type": "code",
   "execution_count": 86,
   "id": "0b45c2db",
   "metadata": {},
   "outputs": [
    {
     "name": "stdout",
     "output_type": "stream",
     "text": [
      "1. 3: 1 -> 2\n",
      "2. 2: 1 -> 3\n",
      "3. 3: 2 -> 3\n",
      "4. 1: 1 -> 2\n",
      "5. 3: 3 -> 1\n",
      "6. 2: 3 -> 2\n",
      "7. 3: 1 -> 2\n",
      "8. 0: 1 -> 3\n",
      "9. 3: 2 -> 3\n",
      "10. 2: 2 -> 1\n",
      "11. 3: 3 -> 1\n",
      "12. 1: 2 -> 3\n",
      "13. 3: 1 -> 2\n",
      "14. 2: 1 -> 3\n",
      "15. 3: 2 -> 3\n"
     ]
    }
   ],
   "source": [
    "class Disk:\n",
    "    def __init__(self, size):\n",
    "        # size = 0 - самый большой\n",
    "        self.pos = 1\n",
    "        self.size = size\n",
    "        if self.size % 2 == 0:\n",
    "            self.next_pos = cycle([3, 2, 1])\n",
    "        else:\n",
    "            self.next_pos = cycle([2, 3, 1])\n",
    "        \n",
    "    def get_next_pos(self):\n",
    "        self.pos = next(self.next_pos)\n",
    "        return self.pos\n",
    "        \n",
    "        \n",
    "def get_disk_number(step, disks):\n",
    "    # 0 - самый большой диск\n",
    "    prev_step = step - 1\n",
    "    prev_step_bin = '{:0>{}}'.format(bin(prev_step)[2:], disks)\n",
    "    step_bin = '{:0>{}}'.format(bin(step)[2:], disks)\n",
    "\n",
    "    return list(zip(prev_step_bin, step_bin)).index(('0', '1'))\n",
    "\n",
    "\n",
    "disks = 4\n",
    "steps = 2 ** disks - 1\n",
    "disks_obj = [Disk(no) for no in range(disks)]\n",
    "for step in range(steps):\n",
    "    print(step + 1, end='. ')\n",
    "    disk_no = get_disk_number(step + 1, disks)\n",
    "    print(disk_no, end=': ')\n",
    "    current_pos = disks_obj[disk_no].pos\n",
    "    print(current_pos, end=' -> ')\n",
    "    next_pos = disks_obj[disk_no].get_next_pos()\n",
    "    print(next_pos)"
   ]
  },
  {
   "cell_type": "code",
   "execution_count": 92,
   "id": "8c4f210b",
   "metadata": {},
   "outputs": [
    {
     "name": "stdout",
     "output_type": "stream",
     "text": [
      "4\n",
      "4\n"
     ]
    }
   ],
   "source": [
    "prev_step_bin = '0000000'\n",
    "step_bin = '00001000'\n",
    "\n",
    "for idx in range(len(prev_step_bin)):\n",
    "    if prev_step_bin[idx] == '0' and step_bin[idx] == '1':\n",
    "        print(idx)\n",
    "        break\n",
    "        \n",
    "for idx, pair in enumerate(zip(prev_step_bin, step_bin)):\n",
    "    if pair == ('0', '1'):\n",
    "        print(idx)\n",
    "        break"
   ]
  },
  {
   "cell_type": "code",
   "execution_count": null,
   "id": "97b47ca3",
   "metadata": {},
   "outputs": [],
   "source": []
  }
 ],
 "metadata": {
  "kernelspec": {
   "display_name": "Python 3 (ipykernel)",
   "language": "python",
   "name": "python3"
  },
  "language_info": {
   "codemirror_mode": {
    "name": "ipython",
    "version": 3
   },
   "file_extension": ".py",
   "mimetype": "text/x-python",
   "name": "python",
   "nbconvert_exporter": "python",
   "pygments_lexer": "ipython3",
   "version": "3.9.13"
  }
 },
 "nbformat": 4,
 "nbformat_minor": 5
}
