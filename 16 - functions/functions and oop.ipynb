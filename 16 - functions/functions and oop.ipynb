{
 "cells": [
  {
   "cell_type": "markdown",
   "id": "e19e6678",
   "metadata": {},
   "source": [
    "# Функции"
   ]
  },
  {
   "cell_type": "markdown",
   "id": "3e554d5a",
   "metadata": {},
   "source": [
    "## Определение и вызов"
   ]
  },
  {
   "cell_type": "code",
   "execution_count": 2,
   "id": "cffb0201",
   "metadata": {},
   "outputs": [
    {
     "name": "stdout",
     "output_type": "stream",
     "text": [
      "num1=1\n",
      "num2=2\n",
      "num3=3\n",
      "6\n"
     ]
    }
   ],
   "source": [
    "def sum3(num1, num2, num3):\n",
    "    print('num1={}'.format(num1))\n",
    "    print(f'num2={num2}')\n",
    "    print(f'{num3=}')\n",
    "    result = num1 + num2 + num3\n",
    "    return result\n",
    "    \n",
    "\n",
    "print(sum3(1, 2, 3))"
   ]
  },
  {
   "cell_type": "code",
   "execution_count": 3,
   "id": "1b73eb03",
   "metadata": {},
   "outputs": [
    {
     "name": "stdout",
     "output_type": "stream",
     "text": [
      "num1=1\n",
      "num2=2\n",
      "num3=3\n",
      "6\n"
     ]
    }
   ],
   "source": [
    "def sum3(num1: int, num2: int, num3: int) -> int:\n",
    "    print('num1={}'.format(num1))\n",
    "    print(f'num2={num2}')\n",
    "    print(f'{num3=}')\n",
    "    result = num1 + num2 + num3\n",
    "    return result\n",
    "    \n",
    "\n",
    "print(sum3(1, 2, 3))"
   ]
  },
  {
   "cell_type": "code",
   "execution_count": 5,
   "id": "7b24ca97",
   "metadata": {
    "collapsed": true
   },
   "outputs": [
    {
     "ename": "TypeError",
     "evalue": "sum3() takes 3 positional arguments but 4 were given",
     "output_type": "error",
     "traceback": [
      "\u001b[1;31m---------------------------------------------------------------------------\u001b[0m",
      "\u001b[1;31mTypeError\u001b[0m                                 Traceback (most recent call last)",
      "Input \u001b[1;32mIn [5]\u001b[0m, in \u001b[0;36m<cell line: 10>\u001b[1;34m()\u001b[0m\n\u001b[0;32m      6\u001b[0m     \u001b[38;5;28;01mreturn\u001b[39;00m result\n\u001b[0;32m      9\u001b[0m \u001b[38;5;66;03m# print(sum3(1, 2))  # TypeError: sum3() missing 1 required positional argument: 'num3'\u001b[39;00m\n\u001b[1;32m---> 10\u001b[0m \u001b[38;5;28mprint\u001b[39m(\u001b[43msum3\u001b[49m\u001b[43m(\u001b[49m\u001b[38;5;241;43m1\u001b[39;49m\u001b[43m,\u001b[49m\u001b[43m \u001b[49m\u001b[38;5;241;43m2\u001b[39;49m\u001b[43m,\u001b[49m\u001b[43m \u001b[49m\u001b[38;5;241;43m3\u001b[39;49m\u001b[43m,\u001b[49m\u001b[43m \u001b[49m\u001b[38;5;241;43m4\u001b[39;49m\u001b[43m)\u001b[49m)\n",
      "\u001b[1;31mTypeError\u001b[0m: sum3() takes 3 positional arguments but 4 were given"
     ]
    }
   ],
   "source": [
    "def sum3(num1, num2, num3):\n",
    "    print('num1={}'.format(num1))\n",
    "    print(f'num2={num2}')\n",
    "    print(f'{num3=}')\n",
    "    result = num1 + num2 + num3\n",
    "    return result\n",
    "    \n",
    "\n",
    "# print(sum3(1, 2))  # TypeError: sum3() missing 1 required positional argument: 'num3'\n",
    "# print(sum3(1, 2, 3, 4))  # TypeError: sum3() takes 3 positional arguments but 4 were given"
   ]
  },
  {
   "cell_type": "code",
   "execution_count": 7,
   "id": "1d9f0314",
   "metadata": {},
   "outputs": [
    {
     "name": "stdout",
     "output_type": "stream",
     "text": [
      "num1=1\n",
      "num2=2\n",
      "num3=0\n",
      "3\n"
     ]
    },
    {
     "ename": "TypeError",
     "evalue": "sum3() missing 1 required positional argument: 'num2'",
     "output_type": "error",
     "traceback": [
      "\u001b[1;31m---------------------------------------------------------------------------\u001b[0m",
      "\u001b[1;31mTypeError\u001b[0m                                 Traceback (most recent call last)",
      "Input \u001b[1;32mIn [7]\u001b[0m, in \u001b[0;36m<cell line: 10>\u001b[1;34m()\u001b[0m\n\u001b[0;32m      6\u001b[0m     \u001b[38;5;28;01mreturn\u001b[39;00m result\n\u001b[0;32m      9\u001b[0m \u001b[38;5;28mprint\u001b[39m(sum3(\u001b[38;5;241m1\u001b[39m, \u001b[38;5;241m2\u001b[39m))\n\u001b[1;32m---> 10\u001b[0m \u001b[38;5;28mprint\u001b[39m(\u001b[43msum3\u001b[49m\u001b[43m(\u001b[49m\u001b[38;5;241;43m1\u001b[39;49m\u001b[43m)\u001b[49m)\n",
      "\u001b[1;31mTypeError\u001b[0m: sum3() missing 1 required positional argument: 'num2'"
     ]
    }
   ],
   "source": [
    "def sum3(num1, num2, num3=0):\n",
    "    print('num1={}'.format(num1))\n",
    "    print(f'num2={num2}')\n",
    "    print(f'{num3=}')\n",
    "    result = num1 + num2 + num3\n",
    "    return result\n",
    "    \n",
    "\n",
    "print(sum3(1, 2))\n",
    "# print(sum3(1))  # Error"
   ]
  },
  {
   "cell_type": "code",
   "execution_count": 8,
   "id": "4c1efbf4",
   "metadata": {},
   "outputs": [
    {
     "ename": "SyntaxError",
     "evalue": "non-default argument follows default argument (4068382457.py, line 1)",
     "output_type": "error",
     "traceback": [
      "\u001b[1;36m  Input \u001b[1;32mIn [8]\u001b[1;36m\u001b[0m\n\u001b[1;33m    def sum3(num1=0, num2, num3=0):\u001b[0m\n\u001b[1;37m                           ^\u001b[0m\n\u001b[1;31mSyntaxError\u001b[0m\u001b[1;31m:\u001b[0m non-default argument follows default argument\n"
     ]
    }
   ],
   "source": [
    "def sum3(num1=0, num2, num3=0):  # ERROR\n",
    "    print('num1={}'.format(num1))\n",
    "    print(f'num2={num2}')\n",
    "    print(f'{num3=}')\n",
    "    result = num1 + num2 + num3\n",
    "    return result\n",
    "    \n",
    "\n",
    "print(sum3(1, 2))\n",
    "# print(sum3(1))  # Error"
   ]
  },
  {
   "cell_type": "code",
   "execution_count": 14,
   "id": "7ac13b83",
   "metadata": {},
   "outputs": [
    {
     "name": "stdout",
     "output_type": "stream",
     "text": [
      "num1=1\n",
      "num2=2\n",
      "num3=3\n",
      "args=(4, 5, 6)\n",
      "6\n"
     ]
    }
   ],
   "source": [
    "def sum3(num1, num2, num3=0, *args):\n",
    "    print('num1={}'.format(num1))\n",
    "    print(f'num2={num2}')\n",
    "    print(f'{num3=}')\n",
    "    print(f'{args=}')\n",
    "    result = num1 + num2 + num3\n",
    "    return result\n",
    "    \n",
    "\n",
    "print(sum3(1, 2, 3, 4, 5, 6))"
   ]
  },
  {
   "cell_type": "code",
   "execution_count": 16,
   "id": "0c910594",
   "metadata": {},
   "outputs": [
    {
     "name": "stdout",
     "output_type": "stream",
     "text": [
      "num1=1\n",
      "num2=2\n",
      "num3=3\n",
      "args=(4, 5, 6)\n",
      "kwargs={'sep': '-'}\n",
      "6\n"
     ]
    }
   ],
   "source": [
    "def sum3(num1, num2, num3=0, *args, **kwargs):\n",
    "    print('num1={}'.format(num1))\n",
    "    print(f'num2={num2}')\n",
    "    print(f'{num3=}')\n",
    "    print(f'{args=}')\n",
    "    print(f'{kwargs=}')\n",
    "    result = num1 + num2 + num3\n",
    "    return result\n",
    "    \n",
    "\n",
    "print(sum3(1, 2, 3, 4, 5, 6, sep='-'))"
   ]
  },
  {
   "cell_type": "code",
   "execution_count": 19,
   "id": "b21b5f7d",
   "metadata": {
    "scrolled": true
   },
   "outputs": [
    {
     "name": "stdout",
     "output_type": "stream",
     "text": [
      "num1=1\n",
      "num2=2\n",
      "num3=3\n",
      "end='<br />'\n",
      "args=(4, 5, 6)\n",
      "kwargs={'sep': '-'}\n",
      "6\n"
     ]
    }
   ],
   "source": [
    "def sum3(num1, num2, num3=0, *args, end='\\n', **kwargs):\n",
    "    print('num1={}'.format(num1))\n",
    "    print(f'num2={num2}')\n",
    "    print(f'{num3=}')\n",
    "    print(f'{end=}')\n",
    "    print(f'{args=}')\n",
    "    print(f'{kwargs=}')\n",
    "    result = num1 + num2 + num3\n",
    "    return result\n",
    "    \n",
    "\n",
    "print(sum3(1, 2, 3, 4, 5, 6, sep='-', end='<br />'))"
   ]
  },
  {
   "cell_type": "code",
   "execution_count": 22,
   "id": "c7cec167",
   "metadata": {},
   "outputs": [
    {
     "name": "stdout",
     "output_type": "stream",
     "text": [
      "num1=1\n",
      "num2=2\n",
      "num3=3\n",
      "6\n",
      "num1=3\n",
      "num2=1\n",
      "num3=2\n",
      "6\n"
     ]
    }
   ],
   "source": [
    "def sum3(num1, num2, num3):\n",
    "    print('num1={}'.format(num1))\n",
    "    print(f'num2={num2}')\n",
    "    print(f'{num3=}')\n",
    "    result = num1 + num2 + num3\n",
    "    return result\n",
    "    \n",
    "\n",
    "print(sum3(num3=3, num2=2, num1=1))\n",
    "print(sum3(3, num3=2, num2=1))"
   ]
  },
  {
   "cell_type": "code",
   "execution_count": 25,
   "id": "7efc5f6f",
   "metadata": {},
   "outputs": [
    {
     "name": "stdout",
     "output_type": "stream",
     "text": [
      "num1=1\n",
      "num2=2\n",
      "num3=3\n",
      "args=(4, 5)\n",
      "6\n"
     ]
    }
   ],
   "source": [
    "def sum3(num1, num2, num3, *args):\n",
    "    print('num1={}'.format(num1))\n",
    "    print(f'num2={num2}')\n",
    "    print(f'{num3=}')\n",
    "    print(f'{args=}')\n",
    "    result = num1 + num2 + num3\n",
    "    return result\n",
    "    \n",
    "numbers = [1, 2, 3, 4, 5]\n",
    "# print(sum3(numbers))  # sum3() missing 2 required positional arguments: 'num2' and 'num3'\n",
    "print(sum3(*numbers))  # sum3(1, 2, 3, 4, 5)"
   ]
  },
  {
   "cell_type": "code",
   "execution_count": 26,
   "id": "8da9d8a5",
   "metadata": {},
   "outputs": [
    {
     "name": "stdout",
     "output_type": "stream",
     "text": [
      "num1=1\n",
      "num2=2\n",
      "num3=3\n",
      "args=()\n",
      "kwargs={'num4': 4}\n",
      "6\n"
     ]
    }
   ],
   "source": [
    "def sum3(num1, num2, num3, *args, **kwargs):\n",
    "    print('num1={}'.format(num1))\n",
    "    print(f'num2={num2}')\n",
    "    print(f'{num3=}')\n",
    "    print(f'{args=}')\n",
    "    print(f'{kwargs=}')\n",
    "    result = num1 + num2 + num3\n",
    "    return result\n",
    "\n",
    "numbers = {\n",
    "    'num1': 1,\n",
    "    'num2': 2,\n",
    "    'num3': 3,\n",
    "    'num4': 4,\n",
    "}\n",
    "print(sum3(**numbers))  # print(sum3(num3=3, num4=4, num2=2, num1=1))"
   ]
  },
  {
   "cell_type": "code",
   "execution_count": 29,
   "id": "57b12bbb",
   "metadata": {
    "scrolled": true
   },
   "outputs": [
    {
     "name": "stdout",
     "output_type": "stream",
     "text": [
      "1\n",
      "2\n",
      "3\n",
      "4\n",
      "5\n"
     ]
    }
   ],
   "source": [
    "numbers = [1, 2, 3, 4, 5]\n",
    "print(*numbers, sep='\\n')"
   ]
  },
  {
   "cell_type": "markdown",
   "id": "29c59474",
   "metadata": {},
   "source": [
    "## lambda"
   ]
  },
  {
   "cell_type": "code",
   "execution_count": 31,
   "id": "353c8b2e",
   "metadata": {},
   "outputs": [
    {
     "name": "stdout",
     "output_type": "stream",
     "text": [
      "6\n",
      "6\n"
     ]
    }
   ],
   "source": [
    "def sum3(num1, num2, num3):\n",
    "    return num1 + num2 + num3\n",
    "\n",
    "sum3_l = lambda n1, n2, n3: n1 + n2 + n3 \n",
    "\n",
    "print(sum3(1, 2, 3))\n",
    "print(sum3_l(1, 2, 3))"
   ]
  },
  {
   "cell_type": "code",
   "execution_count": 34,
   "id": "3188e13d",
   "metadata": {},
   "outputs": [
    {
     "name": "stdout",
     "output_type": "stream",
     "text": [
      "[1.0, 0.25, 0.1111111111111111, 0.0625, 0.04]\n",
      "[1.0, 0.25, 0.1111111111111111, 0.0625, 0.04]\n"
     ]
    }
   ],
   "source": [
    "def sq(num):\n",
    "    return 1 / (num ** 2)\n",
    "\n",
    "\n",
    "numbers = [1, 2, 3, 4, 5]\n",
    "\n",
    "print(list(map(sq, numbers)))\n",
    "print(list(map(lambda x: 1 / (x ** 2), numbers)))"
   ]
  },
  {
   "cell_type": "markdown",
   "id": "b607219e",
   "metadata": {},
   "source": [
    "# Области видимости"
   ]
  },
  {
   "cell_type": "markdown",
   "id": "7487168b",
   "metadata": {},
   "source": [
    "- встроенный\n",
    "- модуль == файл\n",
    "- родительский объект\n",
    "- аргументы\n",
    "- локальный"
   ]
  },
  {
   "cell_type": "code",
   "execution_count": 47,
   "id": "40bb8b0c",
   "metadata": {},
   "outputs": [
    {
     "name": "stdout",
     "output_type": "stream",
     "text": [
      "1 plus 2 is 3\n",
      "1 minus 2 is -1\n",
      "1 multiply on 2 is 2\n",
      "1 divide on 2 is 0.5\n",
      "\n"
     ]
    }
   ],
   "source": [
    "lang = 1\n",
    "\n",
    "def sum2(num1, num2, op):\n",
    "    opers = {  # локальная уровня функции\n",
    "        '+': ('плюс', 'plus'),\n",
    "        '-': ('минус', 'minus'),\n",
    "        '*': ('умножить на', 'multiply on'),\n",
    "        '/': ('разделить на', 'divide on'),\n",
    "        '=': ('равно', 'is'),\n",
    "    }\n",
    "    # lang - уровень модуля\n",
    "    if op == '+':  # локальная уровня аргумента\n",
    "        return '{} {} {} {} {}'.format(num1, opers[op][lang], num2, opers['='][lang], str(num1 + num2))\n",
    "    elif op == '-':\n",
    "        return '{} {} {} {} {}'.format(num1, opers[op][lang], num2, opers['='][lang], str(num1 - num2))\n",
    "    elif op == '*':\n",
    "        return '{} {} {} {} {}'.format(num1, opers[op][lang], num2, opers['='][lang], str(num1 * num2))\n",
    "    elif op == '/':\n",
    "        return '{} {} {} {} {}'.format(num1, opers[op][lang], num2, opers['='][lang], str(num1 / num2))\n",
    "    else:\n",
    "        return ''\n",
    "    \n",
    "    \n",
    "print(sum2(1, 2, '+'))\n",
    "print(sum2(1, 2, '-'))\n",
    "print(sum2(1, 2, '*'))\n",
    "print(sum2(1, 2, '/'))\n",
    "print(sum2(1, 2, '%'))"
   ]
  },
  {
   "cell_type": "code",
   "execution_count": null,
   "id": "a72c91c8",
   "metadata": {},
   "outputs": [],
   "source": [
    "def sum3(a, b, c):\n",
    "    p = 3.14  # родительский объект\n",
    "    def sum2(d, e):\n",
    "        return a + b + c + d + e + p\n",
    "    \n",
    "    return sum2"
   ]
  },
  {
   "cell_type": "code",
   "execution_count": 52,
   "id": "0bcac420",
   "metadata": {},
   "outputs": [
    {
     "name": "stdout",
     "output_type": "stream",
     "text": [
      "m 30\n",
      "l 21\n",
      "m 30\n"
     ]
    }
   ],
   "source": [
    "def change_temp(new_temp):\n",
    "    temp = new_temp + 1\n",
    "    print('l', temp)\n",
    "    return temp\n",
    "\n",
    "\n",
    "temp = 30\n",
    "\n",
    "print('m', temp)\n",
    "change_temp(20)\n",
    "print('m', temp)"
   ]
  },
  {
   "cell_type": "code",
   "execution_count": 53,
   "id": "48af7351",
   "metadata": {},
   "outputs": [
    {
     "name": "stdout",
     "output_type": "stream",
     "text": [
      "m 30\n",
      "l 21\n",
      "m 21\n"
     ]
    }
   ],
   "source": [
    "def change_temp(new_temp):\n",
    "    global temp\n",
    "    temp = new_temp + 1\n",
    "    print('l', temp)\n",
    "    return temp\n",
    "\n",
    "\n",
    "temp = 30\n",
    "\n",
    "print('m', temp)\n",
    "change_temp(20)\n",
    "print('m', temp)"
   ]
  },
  {
   "cell_type": "code",
   "execution_count": 54,
   "id": "2c59405c",
   "metadata": {
    "scrolled": true
   },
   "outputs": [
    {
     "name": "stdout",
     "output_type": "stream",
     "text": [
      "m 30\n"
     ]
    },
    {
     "ename": "UnboundLocalError",
     "evalue": "local variable 'temp' referenced before assignment",
     "output_type": "error",
     "traceback": [
      "\u001b[1;31m---------------------------------------------------------------------------\u001b[0m",
      "\u001b[1;31mUnboundLocalError\u001b[0m                         Traceback (most recent call last)",
      "Input \u001b[1;32mIn [54]\u001b[0m, in \u001b[0;36m<cell line: 9>\u001b[1;34m()\u001b[0m\n\u001b[0;32m      6\u001b[0m temp \u001b[38;5;241m=\u001b[39m \u001b[38;5;241m30\u001b[39m\n\u001b[0;32m      8\u001b[0m \u001b[38;5;28mprint\u001b[39m(\u001b[38;5;124m'\u001b[39m\u001b[38;5;124mm\u001b[39m\u001b[38;5;124m'\u001b[39m, temp)\n\u001b[1;32m----> 9\u001b[0m \u001b[43mchange_temp\u001b[49m\u001b[43m(\u001b[49m\u001b[38;5;241;43m20\u001b[39;49m\u001b[43m)\u001b[49m\n\u001b[0;32m     10\u001b[0m \u001b[38;5;28mprint\u001b[39m(\u001b[38;5;124m'\u001b[39m\u001b[38;5;124mm\u001b[39m\u001b[38;5;124m'\u001b[39m, temp)\n",
      "Input \u001b[1;32mIn [54]\u001b[0m, in \u001b[0;36mchange_temp\u001b[1;34m(new_temp)\u001b[0m\n\u001b[0;32m      1\u001b[0m \u001b[38;5;28;01mdef\u001b[39;00m \u001b[38;5;21mchange_temp\u001b[39m(new_temp):\n\u001b[1;32m----> 2\u001b[0m     temp \u001b[38;5;241m+\u001b[39m\u001b[38;5;241m=\u001b[39m new_temp\n\u001b[0;32m      3\u001b[0m     \u001b[38;5;28;01mreturn\u001b[39;00m temp\n",
      "\u001b[1;31mUnboundLocalError\u001b[0m: local variable 'temp' referenced before assignment"
     ]
    }
   ],
   "source": [
    "def change_temp(new_temp):\n",
    "    temp += new_temp  # ERROR\n",
    "    temp = temp + new_temp  # ERROR\n",
    "    return temp\n",
    "\n",
    "\n",
    "temp = 30\n",
    "\n",
    "print('m', temp)\n",
    "change_temp(20)\n",
    "print('m', temp)"
   ]
  },
  {
   "cell_type": "markdown",
   "id": "ff087e2f",
   "metadata": {},
   "source": [
    "# ООП"
   ]
  },
  {
   "cell_type": "code",
   "execution_count": 67,
   "id": "ec1fe241",
   "metadata": {},
   "outputs": [
    {
     "name": "stdout",
     "output_type": "stream",
     "text": [
      "Tom\n",
      "john\n",
      "Игрок john\n",
      "Игрок Jinny\n"
     ]
    }
   ],
   "source": [
    "class Player:\n",
    "    def __init__(self, name):\n",
    "        self._name = name.strip().title()  # _name - для служебного пользования\n",
    "        \n",
    "    def get_name(self):\n",
    "        return 'Игрок {}'.format(self._name)\n",
    "    \n",
    "    def set_name(self, new_name):\n",
    "        self._name = new_name.strip().title()\n",
    "        \n",
    "        \n",
    "p1 = Player('tom')\n",
    "p2 = Player('merry')\n",
    "print(p1._name)\n",
    "p1._name = 'john'\n",
    "print(p1._name)\n",
    "print(p1.get_name())\n",
    "p1.set_name('jinny')\n",
    "print(p1.get_name())"
   ]
  },
  {
   "cell_type": "code",
   "execution_count": 73,
   "id": "cc82f2ac",
   "metadata": {},
   "outputs": [
    {
     "name": "stdout",
     "output_type": "stream",
     "text": [
      "Игрок Tom\n",
      "Игрок Tom\n",
      "Игрок John\n",
      "Игрок  john  \n"
     ]
    }
   ],
   "source": [
    "class Player:\n",
    "    def __init__(self, name):\n",
    "        self._name = name.strip().title()  # _name - для служебного пользования\n",
    "        \n",
    "    def get_name(self):\n",
    "        return 'Игрок {}'.format(self._name)\n",
    "    \n",
    "    def set_name(self, new_name):\n",
    "        self._name = new_name.strip().title()\n",
    "        \n",
    "    name = property(get_name, set_name)\n",
    "\n",
    "\n",
    "p1 = Player('tom')\n",
    "print(p1.name)\n",
    "print(p1.get_name())\n",
    "p1.name = ' john  '\n",
    "print(p1.name)\n",
    "p1._name = ' john  '\n",
    "print(p1.name)"
   ]
  },
  {
   "cell_type": "code",
   "execution_count": 90,
   "id": "edbe2737",
   "metadata": {
    "collapsed": true
   },
   "outputs": [
    {
     "name": "stdout",
     "output_type": "stream",
     "text": [
      "Игрок Tom\n"
     ]
    },
    {
     "ename": "Exception",
     "evalue": "Недопустимый формат имени",
     "output_type": "error",
     "traceback": [
      "\u001b[1;31m---------------------------------------------------------------------------\u001b[0m",
      "\u001b[1;31mException\u001b[0m                                 Traceback (most recent call last)",
      "Input \u001b[1;32mIn [90]\u001b[0m, in \u001b[0;36m<cell line: 19>\u001b[1;34m()\u001b[0m\n\u001b[0;32m     17\u001b[0m p1 \u001b[38;5;241m=\u001b[39m Player(\u001b[38;5;124m'\u001b[39m\u001b[38;5;124mtom\u001b[39m\u001b[38;5;124m'\u001b[39m)\n\u001b[0;32m     18\u001b[0m \u001b[38;5;28mprint\u001b[39m(p1\u001b[38;5;241m.\u001b[39mname)\n\u001b[1;32m---> 19\u001b[0m p1\u001b[38;5;241m.\u001b[39mname \u001b[38;5;241m=\u001b[39m \u001b[38;5;124m'\u001b[39m\u001b[38;5;124m john1  \u001b[39m\u001b[38;5;124m'\u001b[39m\n\u001b[0;32m     20\u001b[0m \u001b[38;5;28mprint\u001b[39m(p1\u001b[38;5;241m.\u001b[39mname)\n",
      "Input \u001b[1;32mIn [90]\u001b[0m, in \u001b[0;36mPlayer.name\u001b[1;34m(self, new_name)\u001b[0m\n\u001b[0;32m     12\u001b[0m     \u001b[38;5;28mself\u001b[39m\u001b[38;5;241m.\u001b[39m_name \u001b[38;5;241m=\u001b[39m new_name\u001b[38;5;241m.\u001b[39mstrip()\u001b[38;5;241m.\u001b[39mtitle()\n\u001b[0;32m     13\u001b[0m \u001b[38;5;28;01melse\u001b[39;00m:\n\u001b[1;32m---> 14\u001b[0m     \u001b[38;5;28;01mraise\u001b[39;00m \u001b[38;5;167;01mException\u001b[39;00m(\u001b[38;5;124m'\u001b[39m\u001b[38;5;124mНедопустимый формат имени\u001b[39m\u001b[38;5;124m'\u001b[39m)\n",
      "\u001b[1;31mException\u001b[0m: Недопустимый формат имени"
     ]
    }
   ],
   "source": [
    "class Player:\n",
    "    def __init__(self, name):\n",
    "        self._name = name.strip().title()  # _name - для служебного пользования\n",
    "    \n",
    "    @property\n",
    "    def name(self):\n",
    "        return 'Игрок {}'.format(self._name)\n",
    "    \n",
    "    @name.setter\n",
    "    def name(self, new_name):\n",
    "        if new_name.strip().isalpha():\n",
    "            self._name = new_name.strip().title()\n",
    "        else:\n",
    "            raise Exception('Недопустимый формат имени')\n",
    "\n",
    "\n",
    "p1 = Player('tom')\n",
    "print(p1.name)\n",
    "p1.name = ' john1  '\n",
    "print(p1.name)"
   ]
  },
  {
   "cell_type": "markdown",
   "id": "f06c6a42",
   "metadata": {},
   "source": [
    "# Переменные уровня класса"
   ]
  },
  {
   "cell_type": "code",
   "execution_count": 100,
   "id": "b3556eba",
   "metadata": {},
   "outputs": [
    {
     "name": "stdout",
     "output_type": "stream",
     "text": [
      "Hi i'm Tom\n",
      "3\n",
      "3\n",
      "10\n",
      "3\n",
      "['Tom', 'John', 'Merry']\n"
     ]
    }
   ],
   "source": [
    "class Player:\n",
    "    \n",
    "    count = 0\n",
    "    players = []\n",
    "    \n",
    "    def __init__(self, name):\n",
    "        self._name = name.strip().title()  # _name - для служебного пользования\n",
    "        Player.count += 1\n",
    "        Player.players.append(self._name)\n",
    "        \n",
    "    def __repr__(self):\n",
    "        return self._name\n",
    "    \n",
    "    @property\n",
    "    def name(self):\n",
    "        return 'Игрок {}'.format(self._name)\n",
    "    \n",
    "    @name.setter\n",
    "    def name(self, new_name):\n",
    "        if new_name.strip().isalpha():\n",
    "            self._name = new_name.strip().title()\n",
    "        else:\n",
    "            raise Exception('Недопустимый формат имени')\n",
    "\n",
    "    def hello(self):\n",
    "        return 'Hi i\\'m {}'.format(self._name)\n",
    "\n",
    "\n",
    "p1 = Player('tom')\n",
    "p2 = Player('john')\n",
    "p3 = Player('merry')\n",
    "print(p1.hello())\n",
    "print(Player.count)\n",
    "print(p1.count)\n",
    "p1.count = 10\n",
    "print(p1.count)\n",
    "print(Player.count)\n",
    "print(Player.players)"
   ]
  }
 ],
 "metadata": {
  "kernelspec": {
   "display_name": "Python 3 (ipykernel)",
   "language": "python",
   "name": "python3"
  },
  "language_info": {
   "codemirror_mode": {
    "name": "ipython",
    "version": 3
   },
   "file_extension": ".py",
   "mimetype": "text/x-python",
   "name": "python",
   "nbconvert_exporter": "python",
   "pygments_lexer": "ipython3",
   "version": "3.9.13"
  }
 },
 "nbformat": 4,
 "nbformat_minor": 5
}
