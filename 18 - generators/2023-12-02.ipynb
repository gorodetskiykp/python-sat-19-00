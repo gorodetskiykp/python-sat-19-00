{
 "cells": [
  {
   "cell_type": "markdown",
   "id": "a193891a",
   "metadata": {},
   "source": [
    "# Генераторы"
   ]
  },
  {
   "cell_type": "markdown",
   "id": "3cad2343",
   "metadata": {},
   "source": [
    "- list - [1, 2, 3]\n",
    "- dict - {1: 3, \"age\": 41}"
   ]
  },
  {
   "cell_type": "code",
   "execution_count": 8,
   "id": "1ae45ac2",
   "metadata": {},
   "outputs": [
    {
     "name": "stdout",
     "output_type": "stream",
     "text": [
      "[0, 1, 2, 3, 4, 5, 6, 7, 8, 9, 10, 11, 12, 13, 14, 15, 16, 17, 18, 19]\n",
      "{0: 0, 1: 1, 2: 4, 3: 9, 4: 16, 5: 25, 6: 36, 7: 49, 8: 64, 9: 81, 10: 100, 11: 121, 12: 144, 13: 169, 14: 196, 15: 225, 16: 256, 17: 289, 18: 324, 19: 361}\n",
      "{0, 1, 2, 3, 4, 5, 6, 7, 8, 9, 10, 11, 12, 13, 14, 15, 16, 17, 18, 19}\n"
     ]
    }
   ],
   "source": [
    "result_list = []\n",
    "result_dict = {}\n",
    "result_set = set()\n",
    "\n",
    "for number in range(20):\n",
    "    result_list.append(number)\n",
    "    result_dict[number] = number ** 2\n",
    "    result_set.add(number)\n",
    "    \n",
    "print(result_list)\n",
    "print(result_dict)\n",
    "print(result_set)"
   ]
  },
  {
   "cell_type": "code",
   "execution_count": 5,
   "id": "762da4b6",
   "metadata": {},
   "outputs": [
    {
     "name": "stdout",
     "output_type": "stream",
     "text": [
      "[0, 1, 2, 3, 4, 5, 6, 7, 8, 9, 10, 11, 12, 13, 14, 15, 16, 17, 18, 19]\n",
      "{0: 0, 1: 1, 2: 4, 3: 9, 4: 16, 5: 25, 6: 36, 7: 49, 8: 64, 9: 81, 10: 100, 11: 121, 12: 144, 13: 169, 14: 196, 15: 225, 16: 256, 17: 289, 18: 324, 19: 361}\n",
      "{0, 1, 2, 3, 4, 5, 6, 7, 8, 9, 10, 11, 12, 13, 14, 15, 16, 17, 18, 19}\n"
     ]
    }
   ],
   "source": [
    "result_list = [number for number in range(20)]\n",
    "result_dict = {number: number ** 2 for number in range(20)}\n",
    "result_set = {number for number in range(20)}\n",
    "\n",
    "print(result_list)\n",
    "print(result_dict)\n",
    "print(result_set)"
   ]
  },
  {
   "cell_type": "code",
   "execution_count": 18,
   "id": "cc34d705",
   "metadata": {
    "scrolled": true
   },
   "outputs": [
    {
     "name": "stdout",
     "output_type": "stream",
     "text": [
      "<generator object <genexpr> at 0x0000011FAE3DC660>\n",
      "0.0\n",
      "0.3333333333333333\n",
      "1.3333333333333333\n",
      "3.0\n",
      "5.333333333333333\n",
      "\n",
      "0.0\n",
      "0.3333333333333333\n",
      "1.3333333333333333\n",
      "3.0\n",
      "5.333333333333333\n"
     ]
    },
    {
     "ename": "StopIteration",
     "evalue": "",
     "output_type": "error",
     "traceback": [
      "\u001b[1;31m---------------------------------------------------------------------------\u001b[0m",
      "\u001b[1;31mStopIteration\u001b[0m                             Traceback (most recent call last)",
      "Input \u001b[1;32mIn [18]\u001b[0m, in \u001b[0;36m<cell line: 18>\u001b[1;34m()\u001b[0m\n\u001b[0;32m     16\u001b[0m \u001b[38;5;28mprint\u001b[39m(\u001b[38;5;28mnext\u001b[39m(result_gen))\n\u001b[0;32m     17\u001b[0m \u001b[38;5;28mprint\u001b[39m(\u001b[38;5;28mnext\u001b[39m(result_gen))\n\u001b[1;32m---> 18\u001b[0m \u001b[38;5;28mprint\u001b[39m(\u001b[38;5;28;43mnext\u001b[39;49m\u001b[43m(\u001b[49m\u001b[43mresult_gen\u001b[49m\u001b[43m)\u001b[49m)\n",
      "\u001b[1;31mStopIteration\u001b[0m: "
     ]
    }
   ],
   "source": [
    "result_gen = (number**2 / 3 for number in range(5))\n",
    "print(result_gen)\n",
    "# print(list(result_gen))\n",
    "for item in result_gen:\n",
    "    print(item)\n",
    "    \n",
    "for item in result_gen:\n",
    "    print(item)\n",
    "    \n",
    "print()\n",
    "    \n",
    "result_gen = (number**2 / 3 for number in range(5))\n",
    "print(next(result_gen))\n",
    "print(next(result_gen))\n",
    "print(next(result_gen))\n",
    "print(next(result_gen))\n",
    "print(next(result_gen))\n",
    "print(next(result_gen))  # StopIteration"
   ]
  },
  {
   "cell_type": "code",
   "execution_count": 50,
   "id": "8d68f096",
   "metadata": {},
   "outputs": [
    {
     "name": "stdout",
     "output_type": "stream",
     "text": [
      "11\n",
      "Следующая итерация\n",
      "33\n"
     ]
    }
   ],
   "source": [
    "def get_number(file):\n",
    "    with open(file) as f:\n",
    "        for line in f:\n",
    "            # print(int(line.strip()) ** 3)\n",
    "            # return int(line.strip())\n",
    "            yield int(line.strip())\n",
    "            f.readline()\n",
    "            yield 'Следующая итерация'\n",
    "\n",
    "\n",
    "number = get_number('data.txt')\n",
    "\n",
    "print(next(number))\n",
    "print(next(number))\n",
    "print(next(number))"
   ]
  },
  {
   "cell_type": "code",
   "execution_count": 39,
   "id": "7c858ffd",
   "metadata": {
    "collapsed": true
   },
   "outputs": [
    {
     "name": "stdout",
     "output_type": "stream",
     "text": [
      "0\n",
      "1\n",
      "1\n",
      "2\n",
      "3\n",
      "5\n",
      "8\n",
      "13\n",
      "21\n",
      "34\n",
      "55\n",
      "89\n",
      "144\n",
      "233\n",
      "377\n",
      "610\n",
      "987\n",
      "1597\n",
      "2584\n",
      "4181\n",
      "6765\n",
      "10946\n",
      "17711\n",
      "28657\n",
      "46368\n",
      "75025\n",
      "121393\n",
      "196418\n",
      "317811\n",
      "514229\n",
      "832040\n",
      "1346269\n",
      "2178309\n",
      "3524578\n",
      "5702887\n",
      "9227465\n",
      "14930352\n",
      "24157817\n",
      "39088169\n",
      "63245986\n",
      "102334155\n",
      "165580141\n",
      "267914296\n",
      "433494437\n",
      "701408733\n",
      "1134903170\n",
      "1836311903\n",
      "2971215073\n",
      "4807526976\n",
      "7778742049\n",
      "12586269025\n",
      "20365011074\n",
      "32951280099\n",
      "53316291173\n",
      "86267571272\n",
      "139583862445\n",
      "225851433717\n",
      "365435296162\n",
      "591286729879\n",
      "956722026041\n",
      "1548008755920\n",
      "2504730781961\n",
      "4052739537881\n",
      "6557470319842\n",
      "10610209857723\n",
      "17167680177565\n",
      "27777890035288\n",
      "44945570212853\n",
      "72723460248141\n",
      "117669030460994\n",
      "190392490709135\n",
      "308061521170129\n",
      "498454011879264\n",
      "806515533049393\n",
      "1304969544928657\n",
      "2111485077978050\n",
      "3416454622906707\n",
      "5527939700884757\n",
      "8944394323791464\n",
      "14472334024676221\n",
      "23416728348467685\n",
      "37889062373143906\n",
      "61305790721611591\n",
      "99194853094755497\n",
      "160500643816367088\n",
      "259695496911122585\n",
      "420196140727489673\n",
      "679891637638612258\n",
      "1100087778366101931\n",
      "1779979416004714189\n",
      "2880067194370816120\n",
      "4660046610375530309\n",
      "7540113804746346429\n",
      "12200160415121876738\n",
      "19740274219868223167\n",
      "31940434634990099905\n",
      "51680708854858323072\n",
      "83621143489848422977\n",
      "135301852344706746049\n",
      "218922995834555169026\n",
      "354224848179261915075\n"
     ]
    }
   ],
   "source": [
    "def get_number():\n",
    "    number1 = 0\n",
    "    number2 = 1\n",
    "    while True:\n",
    "        yield number1\n",
    "        number1, number2 = number2, number1 + number2\n",
    "        \n",
    "        \n",
    "# number = get_number()\n",
    "\n",
    "limit = 100\n",
    "for num in get_number():\n",
    "    print(num)\n",
    "    if limit <= 0:\n",
    "        break\n",
    "    limit -= 1\n",
    "    "
   ]
  },
  {
   "cell_type": "code",
   "execution_count": 49,
   "id": "65ef2dc8",
   "metadata": {
    "scrolled": true
   },
   "outputs": [
    {
     "name": "stdout",
     "output_type": "stream",
     "text": [
      "('h', 'w')\n",
      "('e', 'o')\n",
      "\n",
      "1\n",
      "2\n",
      "\n",
      "1\n",
      "3\n"
     ]
    }
   ],
   "source": [
    "res = zip(\"hello\", \"world\")\n",
    "print(next(res))\n",
    "print(next(res))\n",
    "print()\n",
    "res = map(int, \"1234\")\n",
    "print(next(res))\n",
    "print(next(res))\n",
    "print()\n",
    "res = filter(str.isdigit, \"1e34\")\n",
    "print(next(res))\n",
    "print(next(res))"
   ]
  },
  {
   "cell_type": "markdown",
   "id": "743e3a5f",
   "metadata": {},
   "source": [
    "# Регулярные выражения"
   ]
  },
  {
   "cell_type": "code",
   "execution_count": null,
   "id": "5e26d035",
   "metadata": {},
   "outputs": [],
   "source": [
    "import re"
   ]
  },
  {
   "cell_type": "code",
   "execution_count": 57,
   "id": "e791ce2d",
   "metadata": {
    "scrolled": true
   },
   "outputs": [
    {
     "name": "stdout",
     "output_type": "stream",
     "text": [
      "5\n",
      "['2', '0', '2', '3', '1', '2', '0', '2', '1']\n",
      "['20', '02', '23', '12', '02']\n",
      "['20', '23', '12', '02']\n"
     ]
    }
   ],
   "source": [
    "text = \"2023-12-02 Последняя контрольная точка: час назад (несохраненные изменения)1\"\n",
    "\n",
    "search = 12\n",
    "print(text.find(str(search)))\n",
    "\n",
    "# поиск числа\n",
    "print([letter for letter in text if letter.isdigit()])\n",
    "\n",
    "# поиск двузначного числа\n",
    "result = []\n",
    "for idx in range(len(text)-1):\n",
    "    if text[idx:idx+2].isdigit():\n",
    "        result.append(text[idx:idx+2])\n",
    "print(result)\n",
    "\n",
    "# поиск двузначного числа\n",
    "result = []\n",
    "isdigit = False\n",
    "for idx in range(len(text)-1):\n",
    "    if isdigit:\n",
    "        isdigit = False\n",
    "        continue\n",
    "    if text[idx:idx+2].isdigit():\n",
    "        result.append(text[idx:idx+2])\n",
    "        isdigit = True\n",
    "print(result)"
   ]
  },
  {
   "cell_type": "code",
   "execution_count": 75,
   "id": "c9f5c2f4",
   "metadata": {
    "scrolled": true
   },
   "outputs": [
    {
     "name": "stdout",
     "output_type": "stream",
     "text": [
      "['2', '0', '2', '3', '1', '2', '0', '2', '1']\n",
      "['20', '23', '12', '02']\n",
      "['2023', '12', '02', '1']\n",
      "['2023-12-02']\n",
      "['2023-12-02', '1']\n",
      "['час назад']\n"
     ]
    }
   ],
   "source": [
    "import re\n",
    "\n",
    "text = \"2023-12-02 Последняя контрольная точка: час назад (несохраненные изменения)1\"\n",
    "\n",
    "print(re.findall(r'\\d', text))\n",
    "print(re.findall(r'\\d\\d', text))\n",
    "print(re.findall(r'\\d{1,4}', text))\n",
    "# print(re.findall(r'\\d*', text))  # * - {0,inf}\n",
    "# print(re.findall(r'\\d+', text))  # * - {1,inf}\n",
    "# print(re.findall(r'\\d?', text))  # * - {0,1}\n",
    "print(re.findall(r'\\d+-\\d+-\\d+', text))\n",
    "print(re.findall(r'[\\d-]+', text))\n",
    "\n",
    "print(re.findall(r':\\s(.+)\\s\\(', text))"
   ]
  },
  {
   "cell_type": "code",
   "execution_count": 78,
   "id": "8d589265",
   "metadata": {},
   "outputs": [
    {
     "name": "stdout",
     "output_type": "stream",
     "text": [
      "['save_widget', 'filename', 'checkpoint_status', 'autosave_status']\n"
     ]
    }
   ],
   "source": [
    "html = '''\n",
    "<span id=\"save_widget\" class=\"save_widget\">\n",
    "    <span id=\"notebook_name\" class=\"filename\"></span>\n",
    "    <span class=\"checkpoint_status\"></span>\n",
    "    <span class=\"autosave_status\"></span>\n",
    "</span>\n",
    "'''\n",
    "\n",
    "print(re.findall(r'class=\"(.+)\"', html))"
   ]
  },
  {
   "cell_type": "code",
   "execution_count": 94,
   "id": "2591d90a",
   "metadata": {},
   "outputs": [
    {
     "name": "stdout",
     "output_type": "stream",
     "text": [
      "['Создать статью', 'Справка', 'Порталы']\n"
     ]
    }
   ],
   "source": [
    "html = '''\n",
    "<ul>\n",
    "<li class=\"main-top-createArticle\"><a href=\"/wiki/%D0%92%D0%B8%D0%BA%D0%B8%D0%BF%D0%B5%D0%B4%D0%B8%D1%8F:%D0%9C%D0%B0%D1%81%D1%82%D0%B5%D1%80_%D1%81%D1%82%D0%B0%D1%82%D0%B5%D0%B9\" title=\"Википедия:Мастер статей\"><span class=\"mw-ui-button\">Создать статью</span></a></li>\n",
    "<li><a href=\"/wiki/%D0%92%D0%B8%D0%BA%D0%B8%D0%BF%D0%B5%D0%B4%D0%B8%D1%8F:%D0%A1%D0%BF%D1%80%D0%B0%D0%B2%D0%BA%D0%B0\" title=\"Википедия:Справка\"><span class=\"mw-ui-button mw-ui-quiet\">Справка</span></a></li>\n",
    "<li><a href=\"/wiki/%D0%9F%D0%BE%D1%80%D1%82%D0%B0%D0%BB:%D0%9E%D0%B1%D0%B7%D0%BE%D1%80\" title=\"Портал:Обзор\"><span class=\"mw-ui-button mw-ui-quiet\">Порталы</span></a></li>\n",
    "</ul>\n",
    "'''\n",
    "print(re.findall(r'<span.+\">(.+)</s', html))"
   ]
  },
  {
   "cell_type": "code",
   "execution_count": 97,
   "id": "9afc598c",
   "metadata": {},
   "outputs": [
    {
     "name": "stdout",
     "output_type": "stream",
     "text": [
      "['ru', 'com']\n"
     ]
    }
   ],
   "source": [
    "address = 'yandex.ru, yandex.com'\n",
    "\n",
    "print(re.findall(r'\\.(ru|com)', address))"
   ]
  }
 ],
 "metadata": {
  "kernelspec": {
   "display_name": "Python 3 (ipykernel)",
   "language": "python",
   "name": "python3"
  },
  "language_info": {
   "codemirror_mode": {
    "name": "ipython",
    "version": 3
   },
   "file_extension": ".py",
   "mimetype": "text/x-python",
   "name": "python",
   "nbconvert_exporter": "python",
   "pygments_lexer": "ipython3",
   "version": "3.9.13"
  }
 },
 "nbformat": 4,
 "nbformat_minor": 5
}
