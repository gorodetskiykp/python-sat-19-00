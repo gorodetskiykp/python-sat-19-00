{
 "cells": [
  {
   "cell_type": "markdown",
   "id": "8a7c35bb",
   "metadata": {},
   "source": [
    "# itertools"
   ]
  },
  {
   "cell_type": "markdown",
   "id": "8ce1fd15",
   "metadata": {},
   "source": [
    "next()\n",
    "for\n",
    "list()"
   ]
  },
  {
   "cell_type": "code",
   "execution_count": 20,
   "id": "ce794a76",
   "metadata": {},
   "outputs": [
    {
     "name": "stdout",
     "output_type": "stream",
     "text": [
      "0\n",
      "1\n",
      "2\n",
      "0 h\n",
      "1 e\n",
      "2 l\n",
      "3 l\n",
      "4 o\n",
      "(0, 'h')\n",
      "(1, 'e')\n",
      "(2, 'l')\n",
      "(3, 'l')\n",
      "(4, 'o')\n",
      "10\n",
      "15\n",
      "20\n"
     ]
    }
   ],
   "source": [
    "import itertools\n",
    "\n",
    "count = itertools.count()\n",
    "# count(start=0, step=1)\n",
    "# range(stop) -> range object\n",
    "# range(start, stop[, step]) -> range object\n",
    "\n",
    "for _ in range(3):\n",
    "    print(next(count))\n",
    "\n",
    "text = 'hello'\n",
    "for number, letter in enumerate(text):\n",
    "    print(number, letter)\n",
    "    \n",
    "text = 'hello'\n",
    "for item in enumerate(text):\n",
    "    print(item)\n",
    "    \n",
    "def cnt(start=0, step=1):\n",
    "    output = start\n",
    "    while True:\n",
    "        yield output\n",
    "        output += step\n",
    "        \n",
    "count = cnt(start=10, step=5)\n",
    "for _ in range(3):\n",
    "    print(next(count))"
   ]
  },
  {
   "cell_type": "code",
   "execution_count": 17,
   "id": "3d420ae4",
   "metadata": {},
   "outputs": [
    {
     "name": "stdout",
     "output_type": "stream",
     "text": [
      "('h', 'п')\n",
      "('e', 'р')\n",
      "('l', 'и')\n",
      "('l', 'в')\n",
      "('o', 'е')\n",
      "h - п\n",
      "e - р\n",
      "l - и\n",
      "l - в\n",
      "o - е\n"
     ]
    }
   ],
   "source": [
    "text1 = 'hello'\n",
    "text2 = 'привет'\n",
    "for item in zip(text1, text2):\n",
    "    print(item)\n",
    "for en_letter, ru_letter in zip(text1, text2):\n",
    "    print('{} - {}'.format(en_letter, ru_letter))"
   ]
  },
  {
   "cell_type": "code",
   "execution_count": 24,
   "id": "7f046f3b",
   "metadata": {},
   "outputs": [
    {
     "name": "stdout",
     "output_type": "stream",
     "text": [
      "h..e..l..l..o..h..e..l..l..o..h..e..l..\n",
      "h..e..l..l..o..h..e..l..l..o..h..e..l.."
     ]
    }
   ],
   "source": [
    "text = 'hello'\n",
    "cycle = itertools.cycle(text)\n",
    "for _ in range(13):\n",
    "    print(next(cycle), end='..')\n",
    "    \n",
    "def ccl(items):\n",
    "    idx = 0\n",
    "    while True:\n",
    "        yield items[idx]\n",
    "        idx = (idx + 1) % len(items)\n",
    "\n",
    "print()\n",
    "\n",
    "cycle = ccl(text)\n",
    "for _ in range(13):\n",
    "    print(next(cycle), end='..')\n",
    "    "
   ]
  },
  {
   "cell_type": "code",
   "execution_count": 45,
   "id": "a903172b",
   "metadata": {},
   "outputs": [
    {
     "name": "stdout",
     "output_type": "stream",
     "text": [
      "hello..hello..hello..hello..\n",
      "hello..hello..hello..hello..hello..hello..hello..hello..hello..hello..hello..hello..hello.."
     ]
    }
   ],
   "source": [
    "text = \"hello\"\n",
    "repeat = itertools.repeat(text, 4)\n",
    "for item in repeat:\n",
    "    print(item, end='..')\n",
    "    \n",
    "# 'hello' * 3\n",
    "# [1,2,3] * 3\n",
    "\n",
    "# help(repeat)\n",
    "print()\n",
    "\n",
    "repeat = itertools.repeat(text)\n",
    "for _ in range(13):\n",
    "    print(next(repeat), end='..')"
   ]
  },
  {
   "cell_type": "code",
   "execution_count": 47,
   "id": "ccc41949",
   "metadata": {
    "collapsed": true
   },
   "outputs": [
    {
     "name": "stdout",
     "output_type": "stream",
     "text": [
      "0\n",
      "1\n",
      "4\n",
      "9\n",
      "16\n",
      "\n",
      "0\n",
      "2\n",
      "8\n",
      "18\n",
      "32\n",
      "\n",
      "1\n",
      "1\n",
      "4\n",
      "27\n",
      "256\n",
      "\n",
      "1\n",
      "2\n",
      "4\n",
      "8\n",
      "16\n"
     ]
    }
   ],
   "source": [
    "# map\n",
    "\n",
    "for res in map(lambda x: x**2, range(5)):\n",
    "    print(res)\n",
    "\n",
    "print()\n",
    "\n",
    "for res in map(lambda x, y: x**2 + y**2, range(5), range(5)):\n",
    "    print(res)\n",
    "    \n",
    "pow(2, 3)\n",
    "print()\n",
    "\n",
    "for res in map(pow, range(5), range(5)):\n",
    "    print(res)\n",
    "\n",
    "\n",
    "print()\n",
    "for res in map(pow, itertools.repeat(2), range(5)):\n",
    "    print(res)\n"
   ]
  },
  {
   "cell_type": "code",
   "execution_count": 58,
   "id": "a2462bf5",
   "metadata": {},
   "outputs": [
    {
     "name": "stdout",
     "output_type": "stream",
     "text": [
      "[1, 3, 6, 10, 15, 21]\n",
      "21\n",
      "[1, 3, 6, 10, 15, 21]\n",
      "[10, 11, 13, 16, 20, 25, 31]\n",
      "[1, 2, 6, 24, 120, 720]\n",
      "[1, 2, 3, 4, 5, 6, 6, 6, 6, 6, 6]\n",
      "6\n",
      "[1, 3, 6, 10, 15, 21]\n"
     ]
    }
   ],
   "source": [
    "import functools\n",
    "import operator\n",
    "\n",
    "numbers = [1, 2, 3, 4, 5, 6]\n",
    "print(list(itertools.accumulate(numbers)))\n",
    "print(functools.reduce(operator.add, numbers))\n",
    "\n",
    "print(list(itertools.accumulate(numbers, operator.add)))\n",
    "print(list(itertools.accumulate(numbers, operator.add, initial=10)))\n",
    "\n",
    "print(list(itertools.accumulate(numbers, operator.mul)))\n",
    "\n",
    "numbers = [1, 2, 3, 4, 5, 6, 5, 4, 3, 2, 1]\n",
    "print(list(itertools.accumulate(numbers, max)))\n",
    "print(functools.reduce(max, numbers))\n",
    "\n",
    "numbers = [1, 2, 3, 4, 5, 6]\n",
    "acc = []\n",
    "init = 0\n",
    "for item in numbers:\n",
    "    if acc:\n",
    "        acc.append(item + acc[-1])\n",
    "    else:\n",
    "        acc.append(item + init)\n",
    "print(acc)"
   ]
  },
  {
   "cell_type": "code",
   "execution_count": 68,
   "id": "c134a20b",
   "metadata": {
    "collapsed": true
   },
   "outputs": [
    {
     "name": "stdout",
     "output_type": "stream",
     "text": [
      "hello\n",
      "world\n",
      "1\n",
      "2\n",
      "3\n",
      "h\n",
      "e\n",
      "l\n",
      "l\n",
      "o\n",
      "\n",
      "hello\n",
      "world\n",
      "1\n",
      "2\n",
      "3\n",
      "h\n",
      "e\n",
      "l\n",
      "l\n",
      "o\n",
      "\n",
      "['hello', 'world', 1, 2, 3, 'h', 'e', 'l', 'l', 'o']\n",
      "[1, 2, 3, 2, 3, 4]\n",
      "[1, 2, 3, 2, 3, 4]\n"
     ]
    }
   ],
   "source": [
    "words = ['hello', 'world']\n",
    "numbers = [1, 2, 3]\n",
    "\n",
    "for item in itertools.chain(words, numbers, 'hello'):\n",
    "    print(item)\n",
    "    \n",
    "print()\n",
    "for item in itertools.chain(words + numbers + list('hello')):\n",
    "    print(item)\n",
    "\n",
    "print()\n",
    "print(list(itertools.chain(words, numbers, 'hello')))\n",
    "\n",
    "items = [[1, 2, 3], [2, 3, 4]]\n",
    "print(list(itertools.chain(*items)))\n",
    "print(list(itertools.chain.from_iterable(items)))"
   ]
  },
  {
   "cell_type": "code",
   "execution_count": 71,
   "id": "092894b2",
   "metadata": {
    "scrolled": true
   },
   "outputs": [
    {
     "name": "stdout",
     "output_type": "stream",
     "text": [
      "[1, 2, 4]\n",
      "[1, 3]\n"
     ]
    }
   ],
   "source": [
    "print(list(itertools.compress([1, 2, 3, 4], [True, True, False, True])))\n",
    "print(list(filter(lambda x: x % 2, [1, 2, 3, 4])))"
   ]
  },
  {
   "cell_type": "code",
   "execution_count": 73,
   "id": "34fe54bb",
   "metadata": {
    "scrolled": true
   },
   "outputs": [
    {
     "name": "stdout",
     "output_type": "stream",
     "text": [
      "[5, 6, 7, 8, 9]\n",
      "[5, 6, 3, 2]\n"
     ]
    }
   ],
   "source": [
    "print(list(itertools.dropwhile(lambda x: x < 5, range(10))))\n",
    "print(list(itertools.dropwhile(lambda x: x < 5, [1, 2, 5, 6, 3, 2])))"
   ]
  },
  {
   "cell_type": "code",
   "execution_count": 75,
   "id": "4afbc9bd",
   "metadata": {
    "scrolled": true
   },
   "outputs": [
    {
     "name": "stdout",
     "output_type": "stream",
     "text": [
      "[0, 1, 2, 3, 4]\n",
      "[1, 2]\n"
     ]
    }
   ],
   "source": [
    "print(list(itertools.takewhile(lambda x: x < 5, range(10))))\n",
    "print(list(itertools.takewhile(lambda x: x < 5, [1, 2, 5, 6, 3, 2])))"
   ]
  },
  {
   "cell_type": "code",
   "execution_count": 77,
   "id": "50149be4",
   "metadata": {
    "scrolled": true
   },
   "outputs": [
    {
     "name": "stdout",
     "output_type": "stream",
     "text": [
      "[1, 3, 5, 7, 9, 11, 13, 15, 17, 19]\n",
      "[0, 2, 4, 6, 8, 10, 12, 14, 16, 18]\n"
     ]
    }
   ],
   "source": [
    "print(list(filter(lambda x: x % 2, range(20))))\n",
    "print(list(itertools.filterfalse(lambda x: x % 2, range(20))))"
   ]
  },
  {
   "cell_type": "code",
   "execution_count": 79,
   "id": "1789ba21",
   "metadata": {
    "scrolled": true
   },
   "outputs": [
    {
     "name": "stdout",
     "output_type": "stream",
     "text": [
      "[1, 2, 3, 4, 5, 6, 7, 8, 9, 10, 11, 12, 13, 14, 15, 16, 17, 18, 19]\n",
      "[0]\n"
     ]
    }
   ],
   "source": [
    "print(list(filter(None, range(20))))\n",
    "print(list(itertools.filterfalse(None, range(20))))"
   ]
  },
  {
   "cell_type": "code",
   "execution_count": 84,
   "id": "19e5c191",
   "metadata": {
    "collapsed": true
   },
   "outputs": [
    {
     "name": "stdout",
     "output_type": "stream",
     "text": [
      "('h', 'п')\n",
      "('e', 'р')\n",
      "('l', 'и')\n",
      "('l', 'в')\n",
      "('o', 'е')\n",
      "\n",
      "('h', 'п')\n",
      "('e', 'р')\n",
      "('l', 'и')\n",
      "('l', 'в')\n",
      "('o', 'е')\n",
      "(None, 'т')\n",
      "\n",
      "('h', 'п')\n",
      "('e', 'р')\n",
      "('l', 'и')\n",
      "('l', 'в')\n",
      "('o', 'е')\n",
      "('', 'т')\n"
     ]
    }
   ],
   "source": [
    "text1 = 'hello'\n",
    "text2 = 'привет'\n",
    "for item in zip(text1, text2):\n",
    "    print(item)\n",
    "\n",
    "print()\n",
    "for item in itertools.zip_longest(text1, text2):\n",
    "    print(item)\n",
    "\n",
    "print()\n",
    "for item in itertools.zip_longest(text1, text2, fillvalue=''):\n",
    "    print(item)"
   ]
  },
  {
   "cell_type": "code",
   "execution_count": 89,
   "id": "3bf090fb",
   "metadata": {},
   "outputs": [
    {
     "name": "stdout",
     "output_type": "stream",
     "text": [
      "[5, 5, 5]\n",
      "[5, 5, 5]\n",
      "[5, 5, 5]\n"
     ]
    }
   ],
   "source": [
    "print(list(map(lambda x, y: x + y, [1, 2, 4], [4, 3, 1])))\n",
    "\n",
    "print(list(itertools.starmap(lambda x, y: x + y, [(1, 4), (2, 3), (4, 1)])))\n",
    "\n",
    "print(list(itertools.starmap(lambda x, y: x + y, zip([1, 2, 4], [4, 3, 1]))))"
   ]
  },
  {
   "cell_type": "code",
   "execution_count": 97,
   "id": "c6aaa3bc",
   "metadata": {
    "scrolled": true
   },
   "outputs": [
    {
     "name": "stdout",
     "output_type": "stream",
     "text": [
      "[6, 5, 3, 7]\n",
      "[6, 5, 3, 7]\n",
      "[3, 7]\n",
      "[3, 7]\n",
      "[3, 5, 2]\n",
      "[3, 5, 2]\n"
     ]
    }
   ],
   "source": [
    "numbers = [6, 5, 3, 7, 5, 1, 2, 9]\n",
    "print(list(itertools.islice(numbers, 4)))\n",
    "print(numbers[:4])\n",
    "print(list(itertools.islice(numbers, 2, 4)))\n",
    "print(numbers[2:4])\n",
    "print(list(itertools.islice(numbers, 2, None, 2)))\n",
    "print(numbers[2::2])"
   ]
  },
  {
   "cell_type": "code",
   "execution_count": 98,
   "id": "1f4ae4a5",
   "metadata": {},
   "outputs": [
    {
     "data": {
      "text/plain": [
       "(<itertools._tee at 0x1f3d39b1ac0>,\n",
       " <itertools._tee at 0x1f3d39a1c80>,\n",
       " <itertools._tee at 0x1f3d39a1140>)"
      ]
     },
     "execution_count": 98,
     "metadata": {},
     "output_type": "execute_result"
    }
   ],
   "source": [
    "text = 'hello'\n",
    "repeat = itertools.repeat(text)\n",
    "\n",
    "repeats = itertools.tee(repeat, 3)\n",
    "repeats"
   ]
  },
  {
   "cell_type": "code",
   "execution_count": 110,
   "id": "69e3771c",
   "metadata": {
    "collapsed": true
   },
   "outputs": [
    {
     "name": "stdout",
     "output_type": "stream",
     "text": [
      "{1: [(1, 2), (1, 3), (1, 4)]}\n",
      "{2: [(2, 2), (2, 5)]}\n",
      "{3: [(3, 1)]}\n",
      "\n",
      "{1: [(3, 1)]}\n",
      "{2: [(1, 2), (2, 2)]}\n",
      "{3: [(1, 3)]}\n",
      "{4: [(1, 4)]}\n",
      "{5: [(2, 5)]}\n",
      "\n",
      "{3: [(1, 2)]}\n",
      "{4: [(2, 2), (3, 1), (1, 3)]}\n",
      "{5: [(1, 4)]}\n",
      "{7: [(2, 5)]}\n"
     ]
    }
   ],
   "source": [
    "items = sorted([(1, 2), (2, 2), (1, 4), (2, 5), (3, 1), (1, 3)])\n",
    "\n",
    "g_items = itertools.groupby(items, key=lambda x: x[0])\n",
    "for key, values in g_items:\n",
    "    res = {key: list(values)}\n",
    "    print(res)\n",
    "    \n",
    "print()\n",
    "items = sorted([(1, 2), (2, 2), (1, 4), (2, 5), (3, 1), (1, 3)], key=lambda x: x[1])\n",
    "\n",
    "g_items = itertools.groupby(items, key=lambda x: x[1])\n",
    "for key, values in g_items:\n",
    "    res = {key: list(values)}\n",
    "    print(res)\n",
    "    \n",
    "print()\n",
    "items = sorted([(1, 2), (2, 2), (1, 4), (2, 5), (3, 1), (1, 3)], key=lambda x: sum(x))\n",
    "\n",
    "g_items = itertools.groupby(items, key=lambda x: sum(x))\n",
    "for key, values in g_items:\n",
    "    res = {key: list(values)}\n",
    "    print(res)"
   ]
  },
  {
   "cell_type": "code",
   "execution_count": 112,
   "id": "ec2963c1",
   "metadata": {
    "collapsed": true
   },
   "outputs": [
    {
     "data": {
      "text/plain": [
       "[('h', 1, 4),\n",
       " ('h', 1, 5),\n",
       " ('h', 1, 6),\n",
       " ('h', 2, 4),\n",
       " ('h', 2, 5),\n",
       " ('h', 2, 6),\n",
       " ('h', 3, 4),\n",
       " ('h', 3, 5),\n",
       " ('h', 3, 6),\n",
       " ('h', 4, 4),\n",
       " ('h', 4, 5),\n",
       " ('h', 4, 6),\n",
       " ('e', 1, 4),\n",
       " ('e', 1, 5),\n",
       " ('e', 1, 6),\n",
       " ('e', 2, 4),\n",
       " ('e', 2, 5),\n",
       " ('e', 2, 6),\n",
       " ('e', 3, 4),\n",
       " ('e', 3, 5),\n",
       " ('e', 3, 6),\n",
       " ('e', 4, 4),\n",
       " ('e', 4, 5),\n",
       " ('e', 4, 6),\n",
       " ('l', 1, 4),\n",
       " ('l', 1, 5),\n",
       " ('l', 1, 6),\n",
       " ('l', 2, 4),\n",
       " ('l', 2, 5),\n",
       " ('l', 2, 6),\n",
       " ('l', 3, 4),\n",
       " ('l', 3, 5),\n",
       " ('l', 3, 6),\n",
       " ('l', 4, 4),\n",
       " ('l', 4, 5),\n",
       " ('l', 4, 6),\n",
       " ('l', 1, 4),\n",
       " ('l', 1, 5),\n",
       " ('l', 1, 6),\n",
       " ('l', 2, 4),\n",
       " ('l', 2, 5),\n",
       " ('l', 2, 6),\n",
       " ('l', 3, 4),\n",
       " ('l', 3, 5),\n",
       " ('l', 3, 6),\n",
       " ('l', 4, 4),\n",
       " ('l', 4, 5),\n",
       " ('l', 4, 6),\n",
       " ('o', 1, 4),\n",
       " ('o', 1, 5),\n",
       " ('o', 1, 6),\n",
       " ('o', 2, 4),\n",
       " ('o', 2, 5),\n",
       " ('o', 2, 6),\n",
       " ('o', 3, 4),\n",
       " ('o', 3, 5),\n",
       " ('o', 3, 6),\n",
       " ('o', 4, 4),\n",
       " ('o', 4, 5),\n",
       " ('o', 4, 6)]"
      ]
     },
     "execution_count": 112,
     "metadata": {},
     "output_type": "execute_result"
    }
   ],
   "source": [
    "text = 'hello'\n",
    "numbers = [1, 2, 3, 4]\n",
    "numbers2 = [4, 5, 6]\n",
    "\n",
    "list(itertools.product(text, numbers, numbers2))"
   ]
  },
  {
   "cell_type": "code",
   "execution_count": 114,
   "id": "5adb24fc",
   "metadata": {
    "collapsed": true
   },
   "outputs": [
    {
     "data": {
      "text/plain": [
       "[('h', 'h'),\n",
       " ('h', 'e'),\n",
       " ('h', 'l'),\n",
       " ('h', 'l'),\n",
       " ('h', 'o'),\n",
       " ('e', 'h'),\n",
       " ('e', 'e'),\n",
       " ('e', 'l'),\n",
       " ('e', 'l'),\n",
       " ('e', 'o'),\n",
       " ('l', 'h'),\n",
       " ('l', 'e'),\n",
       " ('l', 'l'),\n",
       " ('l', 'l'),\n",
       " ('l', 'o'),\n",
       " ('l', 'h'),\n",
       " ('l', 'e'),\n",
       " ('l', 'l'),\n",
       " ('l', 'l'),\n",
       " ('l', 'o'),\n",
       " ('o', 'h'),\n",
       " ('o', 'e'),\n",
       " ('o', 'l'),\n",
       " ('o', 'l'),\n",
       " ('o', 'o')]"
      ]
     },
     "execution_count": 114,
     "metadata": {},
     "output_type": "execute_result"
    }
   ],
   "source": [
    "text = 'hello'\n",
    "list(itertools.product(text, repeat=2))"
   ]
  },
  {
   "cell_type": "code",
   "execution_count": 116,
   "id": "0a854610",
   "metadata": {},
   "outputs": [
    {
     "data": {
      "text/plain": [
       "[('h', 'e'),\n",
       " ('h', 'l'),\n",
       " ('h', 'l'),\n",
       " ('h', 'o'),\n",
       " ('e', 'h'),\n",
       " ('e', 'l'),\n",
       " ('e', 'l'),\n",
       " ('e', 'o'),\n",
       " ('l', 'h'),\n",
       " ('l', 'e'),\n",
       " ('l', 'l'),\n",
       " ('l', 'o'),\n",
       " ('l', 'h'),\n",
       " ('l', 'e'),\n",
       " ('l', 'l'),\n",
       " ('l', 'o'),\n",
       " ('o', 'h'),\n",
       " ('o', 'e'),\n",
       " ('o', 'l'),\n",
       " ('o', 'l')]"
      ]
     },
     "execution_count": 116,
     "metadata": {},
     "output_type": "execute_result"
    }
   ],
   "source": [
    "text = 'hello'\n",
    "list(itertools.permutations(text))\n",
    "list(itertools.permutations(text, 2))"
   ]
  },
  {
   "cell_type": "code",
   "execution_count": 118,
   "id": "f70bd0d1",
   "metadata": {
    "collapsed": true
   },
   "outputs": [
    {
     "data": {
      "text/plain": [
       "[('h', 'e'),\n",
       " ('h', 'l'),\n",
       " ('h', 'l'),\n",
       " ('h', 'o'),\n",
       " ('e', 'l'),\n",
       " ('e', 'l'),\n",
       " ('e', 'o'),\n",
       " ('l', 'l'),\n",
       " ('l', 'o'),\n",
       " ('l', 'o')]"
      ]
     },
     "execution_count": 118,
     "metadata": {},
     "output_type": "execute_result"
    }
   ],
   "source": [
    "text = 'hello'\n",
    "list(itertools.combinations(text, 2))"
   ]
  },
  {
   "cell_type": "code",
   "execution_count": 119,
   "id": "e20bb9b7",
   "metadata": {
    "collapsed": true
   },
   "outputs": [
    {
     "data": {
      "text/plain": [
       "[('h', 'h'),\n",
       " ('h', 'e'),\n",
       " ('h', 'l'),\n",
       " ('h', 'l'),\n",
       " ('h', 'o'),\n",
       " ('e', 'e'),\n",
       " ('e', 'l'),\n",
       " ('e', 'l'),\n",
       " ('e', 'o'),\n",
       " ('l', 'l'),\n",
       " ('l', 'l'),\n",
       " ('l', 'o'),\n",
       " ('l', 'l'),\n",
       " ('l', 'o'),\n",
       " ('o', 'o')]"
      ]
     },
     "execution_count": 119,
     "metadata": {},
     "output_type": "execute_result"
    }
   ],
   "source": [
    "text = 'hello'\n",
    "list(itertools.combinations_with_replacement(text, 2))"
   ]
  }
 ],
 "metadata": {
  "kernelspec": {
   "display_name": "Python 3 (ipykernel)",
   "language": "python",
   "name": "python3"
  },
  "language_info": {
   "codemirror_mode": {
    "name": "ipython",
    "version": 3
   },
   "file_extension": ".py",
   "mimetype": "text/x-python",
   "name": "python",
   "nbconvert_exporter": "python",
   "pygments_lexer": "ipython3",
   "version": "3.9.13"
  }
 },
 "nbformat": 4,
 "nbformat_minor": 5
}
